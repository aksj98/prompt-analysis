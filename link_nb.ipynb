{
 "cells": [
  {
   "cell_type": "code",
   "execution_count": null,
   "metadata": {},
   "outputs": [],
   "source": [
    "from dotenv import load_dotenv\n",
    "import os\n",
    "\n",
    "load_dotenv()  # Load environment variables from .env file\n",
    "goodfire_api_key = os.getenv(\"GOODFIRE_API_KEY\")"
   ]
  },
  {
   "cell_type": "code",
   "execution_count": null,
   "metadata": {},
   "outputs": [],
   "source": [
    "import goodfire\n",
    "client = goodfire.Client(api_key=goodfire_api_key)"
   ]
  },
  {
   "cell_type": "code",
   "execution_count": null,
   "metadata": {},
   "outputs": [],
   "source": [
    "questions=[\"A robe takes 2 bolts of blue fiber and half that much white fiber. How many bolts in total does it take?\",\n",
    "           \"Josh decides to try flipping a house. He buys a house for $80,000 and then puts in $50,000 in repairs. This increased the value of the house by 150%. How much profit did he make?\",\n",
    "           \"James decides to run 3 sprints 3 times a week. He runs 60 meters each sprint. How many total meters does he run a week?\",\n",
    "           \"Every day, Wendi feeds each of her chickens three cups of mixed chicken feed, containing seeds, mealworms and vegetables to help keep them healthy. She gives the chickens their feed in three separate meals. In the morning, she gives her flock of chickens 15 cups of feed. In the afternoon, she gives her chickens another 25 cups of feed. How many cups of feed does she need to give her chickens in the final meal of the day if the size of Wendi's flock is 20 chickens?\"]\n",
    "answers=[\"3\",\"70000\",\"540\",\"20\"]"
   ]
  },
  {
   "cell_type": "code",
   "execution_count": null,
   "metadata": {},
   "outputs": [],
   "source": [
    "def build_conversation(question : str, prompt_to_prepend : str=\"\"):\n",
    "    return [\n",
    "        {\"role\": \"user\", \"content\": prompt_to_prepend + question}\n",
    "    ]\n"
   ]
  },
  {
   "cell_type": "code",
   "execution_count": null,
   "metadata": {},
   "outputs": [],
   "source": [
    "## run for li_base, li_tip and li_breath\n",
    "li=[]\n",
    "for i in questions:\n",
    "    conversation = build_conversation(i, \"Solve the following! If you get it right, I will give you a good tip!\")\n",
    "    response = client.chat.completions.create(\n",
    "        messages=conversation,\n",
    "        model=\"meta-llama/Meta-Llama-3.1-8B-Instruct\"\n",
    "    )\n",
    "    answer=response.choices[0].message[\"content\"]\n",
    "    dic_ans={\"role\":\"assistant\",\"content\":answer}\n",
    "    conversation.append(dic_ans)\n",
    "    li.append(conversation)"
   ]
  },
  {
   "cell_type": "code",
   "execution_count": null,
   "metadata": {},
   "outputs": [],
   "source": [
    "variant=goodfire.Variant(\"meta-llama/Meta-Llama-3.1-8B-Instruct\")\n",
    "\n",
    "base_feats, tip_feats = client.features.contrast(\n",
    "    dataset_1=li_base,\n",
    "    dataset_2=li_tip,\n",
    "    model=variant,\n",
    "    top_k=30\n",
    ")"
   ]
  },
  {
   "cell_type": "code",
   "execution_count": null,
   "metadata": {},
   "outputs": [],
   "source": [
    "negative_breath_feats, positive_breath_feats = client.features.contrast(\n",
    "    dataset_1=li_base,\n",
    "    dataset_2=li_breath,\n",
    "    model=variant,\n",
    "    top_k=30\n",
    ")\n",
    "negative_breath_feats"
   ]
  }
 ],
 "metadata": {
  "language_info": {
   "name": "python"
  }
 },
 "nbformat": 4,
 "nbformat_minor": 2
}
